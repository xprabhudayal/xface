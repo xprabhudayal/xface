{
  "nbformat": 4,
  "nbformat_minor": 0,
  "metadata": {
    "colab": {
      "provenance": []
    },
    "kernelspec": {
      "name": "python3",
      "display_name": "Python 3"
    },
    "language_info": {
      "name": "python"
    }
  },
  "cells": [
    {
      "cell_type": "markdown",
      "source": [
        "# This is the Xface Telegram Bot\n",
        "###Made with 💖 using Python"
      ],
      "metadata": {
        "id": "vhVjE_BA7LuM"
      }
    },
    {
      "cell_type": "markdown",
      "source": [
        "# Install Dependencies"
      ],
      "metadata": {
        "id": "nSyvuB5K6jlN"
      }
    },
    {
      "cell_type": "code",
      "source": [
        "!pip install wget python-telegram-bot==13.15 -q"
      ],
      "metadata": {
        "id": "yM0Q0wzkr7kr"
      },
      "execution_count": null,
      "outputs": []
    },
    {
      "cell_type": "markdown",
      "source": [
        "#Main Bot Code 🤖"
      ],
      "metadata": {
        "id": "y3cSjRyv6nMI"
      }
    },
    {
      "cell_type": "markdown",
      "source": [
        "##Enter the Telegram Bot Token 💖"
      ],
      "metadata": {
        "id": "XFjXc3kX67Ip"
      }
    },
    {
      "cell_type": "code",
      "source": [
        "# Set up your bot token\n",
        "BOT_TOKEN = 'ENTER YOUR BOT TOKEN WITH 💖'"
      ],
      "metadata": {
        "id": "fv-MmKYj6xDe"
      },
      "execution_count": null,
      "outputs": []
    },
    {
      "cell_type": "markdown",
      "source": [
        "##Run the Code 🚀"
      ],
      "metadata": {
        "id": "SD-upYIg7C27"
      }
    },
    {
      "cell_type": "code",
      "source": [
        "import cv2\n",
        "import wget\n",
        "import os\n",
        "from telegram import Update, InputFile\n",
        "from telegram.ext import Updater, CommandHandler, MessageHandler, Filters, CallbackContext\n",
        "from deepface import DeepFace\n",
        "\n",
        "# Set up your bot token\n",
        "BOT_TOKEN = '7018789296:AAGig2oPl6tTxEf09e-E5xrdS3-KU4nb3Y8'\n",
        "\n",
        "\n",
        "#it starts the bot\n",
        "def start(update: Update, context: CallbackContext) -> None:\n",
        "    update.message.reply_text('Send me an image as a document or a URL to analyze the emotion.')\n",
        "\n",
        "#this remotely downloads the image provided from the url\n",
        "def download_image(url, output_dir=\"downloaded_images\"):\n",
        "    if not os.path.exists(output_dir):\n",
        "        os.makedirs(output_dir)\n",
        "    image_filename = wget.download(url, out=output_dir)\n",
        "    return image_filename\n",
        "\n",
        "#it uses the deepface library\n",
        "def detect_emotion(image_path):\n",
        "    try:\n",
        "        image = cv2.imread(image_path)\n",
        "        if image is None:\n",
        "            raise ValueError(f\"Could not load image from path: {image_path}\")\n",
        "        result = DeepFace.analyze(image, actions=['emotion'])\n",
        "        return result[0]['dominant_emotion']\n",
        "    except Exception as e:\n",
        "        return f\"Error: {e}\"\n",
        "\n",
        "#document handler\n",
        "def handle_document(update: Update, context: CallbackContext) -> None:\n",
        "    document = update.message.document\n",
        "    file = context.bot.get_file(document.file_id)\n",
        "    file_path = f\"downloaded_images/{document.file_name}\"\n",
        "    file.download(file_path)\n",
        "\n",
        "    emotion = detect_emotion(file_path)\n",
        "    update.message.reply_text(f\"Detected Emotion: {emotion}\")\n",
        "\n",
        "#url handler\n",
        "def handle_url(update: Update, context: CallbackContext) -> None:\n",
        "    url = update.message.text\n",
        "    file_path = download_image(url)\n",
        "\n",
        "    emotion = detect_emotion(file_path)\n",
        "    update.message.reply_text(f\"Detected Emotion: {emotion}\")\n",
        "\n",
        "#main function\n",
        "def main() -> None:\n",
        "    updater = Updater(BOT_TOKEN)\n",
        "\n",
        "    dispatcher = updater.dispatcher\n",
        "    dispatcher.add_handler(CommandHandler(\"start\", start))\n",
        "    dispatcher.add_handler(MessageHandler(Filters.document.image, handle_document))\n",
        "    dispatcher.add_handler(MessageHandler(Filters.text & ~Filters.command, handle_url))\n",
        "\n",
        "    updater.start_polling()\n",
        "    print(\"Bot is running...\")\n",
        "    updater.idle()\n",
        "\n",
        "if __name__ == '__main__':\n",
        "    main()"
      ],
      "metadata": {
        "id": "IPNfT8Gnz0Mt"
      },
      "execution_count": null,
      "outputs": []
    }
  ]
}